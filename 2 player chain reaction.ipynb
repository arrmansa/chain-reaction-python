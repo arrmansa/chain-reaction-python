{
 "cells": [
  {
   "cell_type": "code",
   "execution_count": 1,
   "id": "829e203a",
   "metadata": {},
   "outputs": [],
   "source": [
    "import numpy as np\n",
    "import matplotlib\n",
    "matplotlib.use('TkAgg')\n",
    "import matplotlib.pyplot as plt"
   ]
  },
  {
   "cell_type": "code",
   "execution_count": 2,
   "id": "e1bff8cf",
   "metadata": {},
   "outputs": [],
   "source": [
    "def get_valid_input():\n",
    "    while True:\n",
    "        j, i = plt.ginput(1)[0]\n",
    "        i, j = int(i), int(j)\n",
    "        if 1<=i<=l and 1<=j<=w and game_board[i, j] * player >= 0:\n",
    "            return i,j\n",
    "            \n",
    "def zero_array_edges(somearr):\n",
    "    somearr[0] = 0\n",
    "    somearr[-1] = 0\n",
    "    somearr[:, 0] = 0\n",
    "    somearr[:, -1] = 0"
   ]
  },
  {
   "cell_type": "code",
   "execution_count": 3,
   "id": "b08e2c23",
   "metadata": {},
   "outputs": [
    {
     "name": "stdout",
     "output_type": "stream",
     "text": [
      "Winner is player - 1\n"
     ]
    },
    {
     "name": "stderr",
     "output_type": "stream",
     "text": [
      "C:\\ProgramData\\Anaconda3\\envs\\AIstuff\\lib\\site-packages\\ipykernel\\eventloops.py:256: RuntimeWarning: coroutine 'Kernel.do_one_iteration' was never awaited\n",
      "  self.func()\n",
      "RuntimeWarning: Enable tracemalloc to get the object allocation traceback\n"
     ]
    }
   ],
   "source": [
    "#Initialize\n",
    "\n",
    "#board\n",
    "l, w = 4, 6\n",
    "player = 1\n",
    "game_board = np.zeros((l+2, w+2), dtype = np.int8)\n",
    "\n",
    "\n",
    "\n",
    "#explosion board\n",
    "explosion_board = np.ones((l+2, w+2), dtype = np.int8)\n",
    "explosion_board[2:-2] += 1\n",
    "explosion_board[:, 2:-2] += 1\n",
    "explosion_board += 1\n",
    "\n",
    "#First 2 moves\n",
    "for player in (1, -1):\n",
    "    plt.clf()\n",
    "    plt.imshow(game_board[1:-1, 1:-1], vmin=-3, vmax=3, extent=[1, w+1, l+1, 1])\n",
    "    #get move\n",
    "    i, j = get_valid_input()\n",
    "    game_board[i, j] += player\n",
    "    \n",
    "\n",
    "#Play until win\n",
    "player = 1\n",
    "while np.any(game_board[1:-1]<0) and np.any(game_board[1:-1]>0):\n",
    "    player = -1 if player==1 else 1\n",
    "    plt.clf()\n",
    "    plt.imshow(game_board[1:-1, 1:-1], vmin=-3, vmax=3, extent=[1, w+1, l+1, 1])\n",
    "    #get move\n",
    "    i, j = get_valid_input()\n",
    "    game_board[i, j] += player\n",
    "    #Explode until win or no more explosions\n",
    "    exploding = np.abs(game_board) >= explosion_board\n",
    "    while np.any(exploding) and np.any(game_board[1:-1]<0) and np.any(game_board[1:-1]>0):\n",
    "        for i,j in np.argwhere(exploding):\n",
    "            game_board[i,j] -= player * explosion_board[i,j]\n",
    "            for i2, j2 in ((i+1, j), (i-1, j), (i, j+1), (i, j-1)):\n",
    "                game_board[i2, j2] = player * (abs(game_board[i2, j2]) + 1)\n",
    "        zero_array_edges(game_board)\n",
    "        exploding = np.abs(game_board) >= explosion_board\n",
    "        \n",
    "#Winner\n",
    "plt.close()\n",
    "print(\"Winner is player -\", 1 if np.any(game_board[1:-1]>0) else 2)"
   ]
  }
 ],
 "metadata": {
  "kernelspec": {
   "display_name": "Python 3 (ipykernel)",
   "language": "python",
   "name": "python3"
  },
  "language_info": {
   "codemirror_mode": {
    "name": "ipython",
    "version": 3
   },
   "file_extension": ".py",
   "mimetype": "text/x-python",
   "name": "python",
   "nbconvert_exporter": "python",
   "pygments_lexer": "ipython3",
   "version": "3.7.10"
  }
 },
 "nbformat": 4,
 "nbformat_minor": 5
}
